{
    "cells": [
        {
            "metadata": {
                "collapsed": true
            },
            "cell_type": "markdown",
            "source": "# The top 10 largest US cities by populations are: \n### 1. New York City, NY\n### 2. Los Angeles, CA\n### 3. Chicago, IL\n### 4. Houston, TX\n### 5. Phoenix, AZ\n### 6. Philadelphia, PA\n### 7. San Antonio, TX\n### 8. San Diego, CA\n### 9. Dallas, TX\n### 10. San Jose, CA\n\n# I'm going to use the following data for my research:\n# - The geograpical coordinate of the 10 cities\n# - The top 100 venues that are within a radius of 500 meters of each city."
        },
        {
            "metadata": {},
            "cell_type": "code",
            "source": "",
            "execution_count": null,
            "outputs": []
        }
    ],
    "metadata": {
        "kernelspec": {
            "name": "python3",
            "display_name": "Python 3.7",
            "language": "python"
        },
        "language_info": {
            "name": "python",
            "version": "3.7.9",
            "mimetype": "text/x-python",
            "codemirror_mode": {
                "name": "ipython",
                "version": 3
            },
            "pygments_lexer": "ipython3",
            "nbconvert_exporter": "python",
            "file_extension": ".py"
        }
    },
    "nbformat": 4,
    "nbformat_minor": 1
}