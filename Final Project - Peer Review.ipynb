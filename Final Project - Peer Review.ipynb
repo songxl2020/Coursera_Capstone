{
    "cells": [
        {
            "cell_type": "markdown",
            "metadata": {},
            "source": "#                                                        Analysis of City Similarities"
        },
        {
            "cell_type": "markdown",
            "metadata": {
                "collapsed": true
            },
            "source": "#                        Introduction\n## The top 10 largest US cities by populations are: \n### 1. New York City, NY\n### 2. Los Angeles, CA\n### 3. Chicago, IL\n### 4. Houston, TX\n### 5. Phoenix, AZ\n### 6. Philadelphia, PA\n### 7. San Antonio, TX\n### 8. San Diego, CA\n### 9. Dallas, TX\n### 10. San Jose, CA\n\n## I'm curious about the similarity among them and going to cluster them using venue-based similarity measurement.\n## It will be useful for movers from those 10 cities to find the one that they are already familar with and like to live."
        },
        {
            "cell_type": "markdown",
            "metadata": {},
            "source": "# Data Description\n## I'm going to use the following data for my research:\n### - The geograpical coordinate of the 10 cities\n### - The top 100 venues that are within a radius of 500 meters of each city."
        },
        {
            "cell_type": "code",
            "execution_count": null,
            "metadata": {},
            "outputs": [],
            "source": "import requests # library to handle requests\nimport pandas as pd # library for data analsysis\nimport numpy as np # library to handle data in a vectorized manner\nimport random # library for random number generation\n\n\n!pip install geopy\nfrom geopy.geocoders import Nominatim # module to convert an address into latitude and longitude values\n\n# libraries for displaying images\nfrom IPython.display import Image \nfrom IPython.core.display import HTML \n    \n# tranforming json file into a pandas dataframe library\nfrom pandas.io.json import json_normalize\n\n\n! pip install folium==0.5.0\nimport folium # plotting library\n\nprint('Folium installed')\nprint('Libraries imported.')"
        },
        {
            "cell_type": "code",
            "execution_count": 2,
            "metadata": {},
            "outputs": [],
            "source": "# The code was removed by Watson Studio for sharing."
        },
        {
            "cell_type": "code",
            "execution_count": 3,
            "metadata": {},
            "outputs": [],
            "source": "df_Top10=pd.DataFrame({'Cities':['New York City, NY','Los Angeles, CA','Chicago, IL','Houston, TX','Phoenix, AZ','Philadelphia, PA','San Antonio, TX','San Diego, CA','Dallas, TX','San Jose, CA']})"
        },
        {
            "cell_type": "code",
            "execution_count": 5,
            "metadata": {},
            "outputs": [
                {
                    "data": {
                        "text/html": "<div>\n<style scoped>\n    .dataframe tbody tr th:only-of-type {\n        vertical-align: middle;\n    }\n\n    .dataframe tbody tr th {\n        vertical-align: top;\n    }\n\n    .dataframe thead th {\n        text-align: right;\n    }\n</style>\n<table border=\"1\" class=\"dataframe\">\n  <thead>\n    <tr style=\"text-align: right;\">\n      <th></th>\n      <th>Cities</th>\n    </tr>\n  </thead>\n  <tbody>\n    <tr>\n      <th>0</th>\n      <td>New York City, NY</td>\n    </tr>\n    <tr>\n      <th>1</th>\n      <td>Los Angeles, CA</td>\n    </tr>\n    <tr>\n      <th>2</th>\n      <td>Chicago, IL</td>\n    </tr>\n    <tr>\n      <th>3</th>\n      <td>Houston, TX</td>\n    </tr>\n    <tr>\n      <th>4</th>\n      <td>Phoenix, AZ</td>\n    </tr>\n    <tr>\n      <th>5</th>\n      <td>Philadelphia, PA</td>\n    </tr>\n    <tr>\n      <th>6</th>\n      <td>San Antonio, TX</td>\n    </tr>\n    <tr>\n      <th>7</th>\n      <td>San Diego, CA</td>\n    </tr>\n    <tr>\n      <th>8</th>\n      <td>Dallas, TX</td>\n    </tr>\n    <tr>\n      <th>9</th>\n      <td>San Jose, CA</td>\n    </tr>\n  </tbody>\n</table>\n</div>",
                        "text/plain": "              Cities\n0  New York City, NY\n1    Los Angeles, CA\n2        Chicago, IL\n3        Houston, TX\n4        Phoenix, AZ\n5   Philadelphia, PA\n6    San Antonio, TX\n7      San Diego, CA\n8         Dallas, TX\n9       San Jose, CA"
                    },
                    "execution_count": 5,
                    "metadata": {},
                    "output_type": "execute_result"
                }
            ],
            "source": "df_Top10"
        },
        {
            "cell_type": "markdown",
            "metadata": {},
            "source": "# Get the geograpical coordinate of the 10 cities"
        },
        {
            "cell_type": "code",
            "execution_count": 4,
            "metadata": {},
            "outputs": [],
            "source": "def get_LL(address):\n    geolocator = Nominatim(user_agent=\"Top10\")\n    location = geolocator.geocode(address)\n    latitude = location.latitude\n    longitude = location.longitude\n    return latitude, longitude"
        },
        {
            "cell_type": "code",
            "execution_count": 5,
            "metadata": {},
            "outputs": [],
            "source": "df_Top10['Latitude'],df_Top10['Longitude']=zip(*df_Top10['Cities'].apply(get_LL))"
        },
        {
            "cell_type": "code",
            "execution_count": 6,
            "metadata": {},
            "outputs": [
                {
                    "data": {
                        "text/html": "<div>\n<style scoped>\n    .dataframe tbody tr th:only-of-type {\n        vertical-align: middle;\n    }\n\n    .dataframe tbody tr th {\n        vertical-align: top;\n    }\n\n    .dataframe thead th {\n        text-align: right;\n    }\n</style>\n<table border=\"1\" class=\"dataframe\">\n  <thead>\n    <tr style=\"text-align: right;\">\n      <th></th>\n      <th>Cities</th>\n      <th>Latitude</th>\n      <th>Longitude</th>\n    </tr>\n  </thead>\n  <tbody>\n    <tr>\n      <th>0</th>\n      <td>New York City, NY</td>\n      <td>40.712728</td>\n      <td>-74.006015</td>\n    </tr>\n    <tr>\n      <th>1</th>\n      <td>Los Angeles, CA</td>\n      <td>34.053691</td>\n      <td>-118.242766</td>\n    </tr>\n    <tr>\n      <th>2</th>\n      <td>Chicago, IL</td>\n      <td>41.875562</td>\n      <td>-87.624421</td>\n    </tr>\n    <tr>\n      <th>3</th>\n      <td>Houston, TX</td>\n      <td>29.758938</td>\n      <td>-95.367697</td>\n    </tr>\n    <tr>\n      <th>4</th>\n      <td>Phoenix, AZ</td>\n      <td>33.448437</td>\n      <td>-112.074142</td>\n    </tr>\n    <tr>\n      <th>5</th>\n      <td>Philadelphia, PA</td>\n      <td>39.952724</td>\n      <td>-75.163526</td>\n    </tr>\n    <tr>\n      <th>6</th>\n      <td>San Antonio, TX</td>\n      <td>29.424600</td>\n      <td>-98.495141</td>\n    </tr>\n    <tr>\n      <th>7</th>\n      <td>San Diego, CA</td>\n      <td>32.717420</td>\n      <td>-117.162773</td>\n    </tr>\n    <tr>\n      <th>8</th>\n      <td>Dallas, TX</td>\n      <td>32.776272</td>\n      <td>-96.796856</td>\n    </tr>\n    <tr>\n      <th>9</th>\n      <td>San Jose, CA</td>\n      <td>37.336191</td>\n      <td>-121.890583</td>\n    </tr>\n  </tbody>\n</table>\n</div>",
                        "text/plain": "              Cities   Latitude   Longitude\n0  New York City, NY  40.712728  -74.006015\n1    Los Angeles, CA  34.053691 -118.242766\n2        Chicago, IL  41.875562  -87.624421\n3        Houston, TX  29.758938  -95.367697\n4        Phoenix, AZ  33.448437 -112.074142\n5   Philadelphia, PA  39.952724  -75.163526\n6    San Antonio, TX  29.424600  -98.495141\n7      San Diego, CA  32.717420 -117.162773\n8         Dallas, TX  32.776272  -96.796856\n9       San Jose, CA  37.336191 -121.890583"
                    },
                    "execution_count": 6,
                    "metadata": {},
                    "output_type": "execute_result"
                }
            ],
            "source": "df_Top10"
        },
        {
            "cell_type": "markdown",
            "metadata": {},
            "source": "# Get the top 100 venues for each city"
        },
        {
            "cell_type": "code",
            "execution_count": 7,
            "metadata": {},
            "outputs": [],
            "source": "def getNearbyVenues(names, latitudes, longitudes, radius=500):\n    \n    venues_list=[]\n    for name, lat, lng in zip(names, latitudes, longitudes):\n        print(name)\n            \n        # create the API request URL\n        url = 'https://api.foursquare.com/v2/venues/explore?&client_id={}&client_secret={}&v={}&ll={},{}&radius={}&limit={}'.format(\n            CLIENT_ID, \n            CLIENT_SECRET, \n            VERSION, \n            lat, \n            lng, \n            radius, \n            LIMIT)\n            \n        # make the GET request\n        results = requests.get(url).json()[\"response\"]['groups'][0]['items']\n        \n        # return only relevant information for each nearby venue\n        venues_list.append([(\n            name, \n            lat, \n            lng, \n            v['venue']['name'], \n            v['venue']['location']['lat'], \n            v['venue']['location']['lng'],  \n            v['venue']['categories'][0]['name']) for v in results])\n\n    nearby_venues = pd.DataFrame([item for venue_list in venues_list for item in venue_list])\n    nearby_venues.columns = ['Cities', \n                  'Latitude', \n                  'Longitude', \n                  'Venue', \n                  'Venue Latitude', \n                  'Venue Longitude', \n                  'Venue Category']\n    \n    return(nearby_venues)\n    "
        },
        {
            "cell_type": "code",
            "execution_count": 8,
            "metadata": {},
            "outputs": [],
            "source": "# function that extracts the category of the venue\ndef get_category_type(row):\n    try:\n        categories_list = row['categories']\n    except:\n        categories_list = row['venue.categories']\n        \n    if len(categories_list) == 0:\n        return None\n    else:\n        return categories_list[0]['name']"
        },
        {
            "cell_type": "code",
            "execution_count": 9,
            "metadata": {},
            "outputs": [
                {
                    "name": "stdout",
                    "output_type": "stream",
                    "text": "New York City, NY\nLos Angeles, CA\nChicago, IL\nHouston, TX\nPhoenix, AZ\nPhiladelphia, PA\nSan Antonio, TX\nSan Diego, CA\nDallas, TX\nSan Jose, CA\n"
                }
            ],
            "source": "names,lats,longs=df_Top10['Cities'],df_Top10['Latitude'],df_Top10['Longitude']\nTop10_venues=getNearbyVenues(names,lats,longs)"
        },
        {
            "cell_type": "code",
            "execution_count": 10,
            "metadata": {},
            "outputs": [
                {
                    "data": {
                        "text/html": "<div>\n<style scoped>\n    .dataframe tbody tr th:only-of-type {\n        vertical-align: middle;\n    }\n\n    .dataframe tbody tr th {\n        vertical-align: top;\n    }\n\n    .dataframe thead th {\n        text-align: right;\n    }\n</style>\n<table border=\"1\" class=\"dataframe\">\n  <thead>\n    <tr style=\"text-align: right;\">\n      <th></th>\n      <th>Cities</th>\n      <th>Latitude</th>\n      <th>Longitude</th>\n      <th>Venue</th>\n      <th>Venue Latitude</th>\n      <th>Venue Longitude</th>\n      <th>Venue Category</th>\n    </tr>\n  </thead>\n  <tbody>\n    <tr>\n      <th>0</th>\n      <td>New York City, NY</td>\n      <td>40.712728</td>\n      <td>-74.006015</td>\n      <td>The Bar Room at Temple Court</td>\n      <td>40.711448</td>\n      <td>-74.006802</td>\n      <td>Hotel Bar</td>\n    </tr>\n    <tr>\n      <th>1</th>\n      <td>New York City, NY</td>\n      <td>40.712728</td>\n      <td>-74.006015</td>\n      <td>The Beekman, A Thompson Hotel</td>\n      <td>40.711173</td>\n      <td>-74.006702</td>\n      <td>Hotel</td>\n    </tr>\n    <tr>\n      <th>2</th>\n      <td>New York City, NY</td>\n      <td>40.712728</td>\n      <td>-74.006015</td>\n      <td>Alba Dry Cleaner &amp; Tailor</td>\n      <td>40.711434</td>\n      <td>-74.006272</td>\n      <td>Laundry Service</td>\n    </tr>\n    <tr>\n      <th>3</th>\n      <td>New York City, NY</td>\n      <td>40.712728</td>\n      <td>-74.006015</td>\n      <td>City Hall Park</td>\n      <td>40.711893</td>\n      <td>-74.007792</td>\n      <td>Park</td>\n    </tr>\n    <tr>\n      <th>4</th>\n      <td>New York City, NY</td>\n      <td>40.712728</td>\n      <td>-74.006015</td>\n      <td>Gibney Dance Center Downtown</td>\n      <td>40.713923</td>\n      <td>-74.005661</td>\n      <td>Dance Studio</td>\n    </tr>\n    <tr>\n      <th>...</th>\n      <td>...</td>\n      <td>...</td>\n      <td>...</td>\n      <td>...</td>\n      <td>...</td>\n      <td>...</td>\n      <td>...</td>\n    </tr>\n    <tr>\n      <th>720</th>\n      <td>San Jose, CA</td>\n      <td>37.336191</td>\n      <td>-121.890583</td>\n      <td>Circle-A</td>\n      <td>37.333573</td>\n      <td>-121.886063</td>\n      <td>Board Shop</td>\n    </tr>\n    <tr>\n      <th>721</th>\n      <td>San Jose, CA</td>\n      <td>37.336191</td>\n      <td>-121.890583</td>\n      <td>M Lounge</td>\n      <td>37.334917</td>\n      <td>-121.888036</td>\n      <td>Asian Restaurant</td>\n    </tr>\n    <tr>\n      <th>722</th>\n      <td>San Jose, CA</td>\n      <td>37.336191</td>\n      <td>-121.890583</td>\n      <td>71 Saint Peter Restaurant</td>\n      <td>37.336341</td>\n      <td>-121.893968</td>\n      <td>Modern European Restaurant</td>\n    </tr>\n    <tr>\n      <th>723</th>\n      <td>San Jose, CA</td>\n      <td>37.336191</td>\n      <td>-121.890583</td>\n      <td>Chase Bank</td>\n      <td>37.335420</td>\n      <td>-121.887444</td>\n      <td>Bank</td>\n    </tr>\n    <tr>\n      <th>724</th>\n      <td>San Jose, CA</td>\n      <td>37.336191</td>\n      <td>-121.890583</td>\n      <td>4th St. Pizza Co.</td>\n      <td>37.337604</td>\n      <td>-121.887421</td>\n      <td>Pizza Place</td>\n    </tr>\n  </tbody>\n</table>\n<p>725 rows \u00d7 7 columns</p>\n</div>",
                        "text/plain": "                Cities   Latitude   Longitude                          Venue  \\\n0    New York City, NY  40.712728  -74.006015   The Bar Room at Temple Court   \n1    New York City, NY  40.712728  -74.006015  The Beekman, A Thompson Hotel   \n2    New York City, NY  40.712728  -74.006015      Alba Dry Cleaner & Tailor   \n3    New York City, NY  40.712728  -74.006015                 City Hall Park   \n4    New York City, NY  40.712728  -74.006015   Gibney Dance Center Downtown   \n..                 ...        ...         ...                            ...   \n720       San Jose, CA  37.336191 -121.890583                       Circle-A   \n721       San Jose, CA  37.336191 -121.890583                       M Lounge   \n722       San Jose, CA  37.336191 -121.890583      71 Saint Peter Restaurant   \n723       San Jose, CA  37.336191 -121.890583                     Chase Bank   \n724       San Jose, CA  37.336191 -121.890583              4th St. Pizza Co.   \n\n     Venue Latitude  Venue Longitude              Venue Category  \n0         40.711448       -74.006802                   Hotel Bar  \n1         40.711173       -74.006702                       Hotel  \n2         40.711434       -74.006272             Laundry Service  \n3         40.711893       -74.007792                        Park  \n4         40.713923       -74.005661                Dance Studio  \n..              ...              ...                         ...  \n720       37.333573      -121.886063                  Board Shop  \n721       37.334917      -121.888036            Asian Restaurant  \n722       37.336341      -121.893968  Modern European Restaurant  \n723       37.335420      -121.887444                        Bank  \n724       37.337604      -121.887421                 Pizza Place  \n\n[725 rows x 7 columns]"
                    },
                    "execution_count": 10,
                    "metadata": {},
                    "output_type": "execute_result"
                }
            ],
            "source": "Top10_venues"
        },
        {
            "cell_type": "markdown",
            "metadata": {},
            "source": "# Analyze Cities"
        },
        {
            "cell_type": "code",
            "execution_count": null,
            "metadata": {
                "scrolled": true
            },
            "outputs": [],
            "source": "## one hot encoding\nTop10_onehot = pd.get_dummies(Top10_venues[['Venue Category']], prefix=\"\", prefix_sep=\"\")\n\n## add neighborhood column back to dataframe\nTop10_onehot['Cities'] = Top10_venues['Cities']\n\n# move neighborhood column to the first column\nfixed_columns = [Top10_onehot.columns[-1]] + list(Top10_onehot.columns[:-1])\nTop10_onehot = Top10_onehot[fixed_columns]\n\nTop10_onehot.head()"
        },
        {
            "cell_type": "code",
            "execution_count": 66,
            "metadata": {},
            "outputs": [],
            "source": "Top10_grouped=Top10_onehot.groupby('Cities').mean().reset_index()"
        },
        {
            "cell_type": "code",
            "execution_count": 67,
            "metadata": {},
            "outputs": [
                {
                    "data": {
                        "text/html": "<div>\n<style scoped>\n    .dataframe tbody tr th:only-of-type {\n        vertical-align: middle;\n    }\n\n    .dataframe tbody tr th {\n        vertical-align: top;\n    }\n\n    .dataframe thead th {\n        text-align: right;\n    }\n</style>\n<table border=\"1\" class=\"dataframe\">\n  <thead>\n    <tr style=\"text-align: right;\">\n      <th></th>\n      <th>Cities</th>\n      <th>Accessories Store</th>\n      <th>American Restaurant</th>\n      <th>Antique Shop</th>\n      <th>Arepa Restaurant</th>\n      <th>Art Gallery</th>\n      <th>Art Museum</th>\n      <th>Arts &amp; Crafts Store</th>\n      <th>Asian Restaurant</th>\n      <th>Baby Store</th>\n      <th>...</th>\n      <th>Turkish Restaurant</th>\n      <th>Udon Restaurant</th>\n      <th>Vegetarian / Vegan Restaurant</th>\n      <th>Vietnamese Restaurant</th>\n      <th>Whisky Bar</th>\n      <th>Wine Bar</th>\n      <th>Wine Shop</th>\n      <th>Wings Joint</th>\n      <th>Women's Store</th>\n      <th>Yoga Studio</th>\n    </tr>\n  </thead>\n  <tbody>\n    <tr>\n      <th>0</th>\n      <td>Chicago, IL</td>\n      <td>0.000000</td>\n      <td>0.020000</td>\n      <td>0.00</td>\n      <td>0.01</td>\n      <td>0.00</td>\n      <td>0.02</td>\n      <td>0.02</td>\n      <td>0.02</td>\n      <td>0.00</td>\n      <td>...</td>\n      <td>0.000000</td>\n      <td>0.00</td>\n      <td>0.01</td>\n      <td>0.000000</td>\n      <td>0.01</td>\n      <td>0.000000</td>\n      <td>0.00</td>\n      <td>0.00</td>\n      <td>0.00</td>\n      <td>0.00</td>\n    </tr>\n    <tr>\n      <th>1</th>\n      <td>Dallas, TX</td>\n      <td>0.000000</td>\n      <td>0.000000</td>\n      <td>0.00</td>\n      <td>0.00</td>\n      <td>0.00</td>\n      <td>0.00</td>\n      <td>0.00</td>\n      <td>0.00</td>\n      <td>0.00</td>\n      <td>...</td>\n      <td>0.000000</td>\n      <td>0.00</td>\n      <td>0.00</td>\n      <td>0.000000</td>\n      <td>0.00</td>\n      <td>0.000000</td>\n      <td>0.00</td>\n      <td>0.00</td>\n      <td>0.00</td>\n      <td>0.00</td>\n    </tr>\n    <tr>\n      <th>2</th>\n      <td>Houston, TX</td>\n      <td>0.000000</td>\n      <td>0.000000</td>\n      <td>0.00</td>\n      <td>0.00</td>\n      <td>0.00</td>\n      <td>0.00</td>\n      <td>0.00</td>\n      <td>0.00</td>\n      <td>0.00</td>\n      <td>...</td>\n      <td>0.000000</td>\n      <td>0.00</td>\n      <td>0.00</td>\n      <td>0.000000</td>\n      <td>0.00</td>\n      <td>0.023810</td>\n      <td>0.00</td>\n      <td>0.00</td>\n      <td>0.00</td>\n      <td>0.00</td>\n    </tr>\n    <tr>\n      <th>3</th>\n      <td>Los Angeles, CA</td>\n      <td>0.000000</td>\n      <td>0.040000</td>\n      <td>0.00</td>\n      <td>0.00</td>\n      <td>0.00</td>\n      <td>0.00</td>\n      <td>0.00</td>\n      <td>0.00</td>\n      <td>0.00</td>\n      <td>...</td>\n      <td>0.000000</td>\n      <td>0.04</td>\n      <td>0.00</td>\n      <td>0.000000</td>\n      <td>0.00</td>\n      <td>0.000000</td>\n      <td>0.00</td>\n      <td>0.00</td>\n      <td>0.00</td>\n      <td>0.00</td>\n    </tr>\n    <tr>\n      <th>4</th>\n      <td>New York City, NY</td>\n      <td>0.000000</td>\n      <td>0.020000</td>\n      <td>0.01</td>\n      <td>0.00</td>\n      <td>0.00</td>\n      <td>0.00</td>\n      <td>0.00</td>\n      <td>0.01</td>\n      <td>0.01</td>\n      <td>...</td>\n      <td>0.000000</td>\n      <td>0.00</td>\n      <td>0.01</td>\n      <td>0.000000</td>\n      <td>0.00</td>\n      <td>0.000000</td>\n      <td>0.02</td>\n      <td>0.00</td>\n      <td>0.01</td>\n      <td>0.02</td>\n    </tr>\n    <tr>\n      <th>5</th>\n      <td>Philadelphia, PA</td>\n      <td>0.000000</td>\n      <td>0.030000</td>\n      <td>0.00</td>\n      <td>0.00</td>\n      <td>0.00</td>\n      <td>0.01</td>\n      <td>0.01</td>\n      <td>0.01</td>\n      <td>0.00</td>\n      <td>...</td>\n      <td>0.000000</td>\n      <td>0.00</td>\n      <td>0.02</td>\n      <td>0.000000</td>\n      <td>0.00</td>\n      <td>0.010000</td>\n      <td>0.00</td>\n      <td>0.00</td>\n      <td>0.00</td>\n      <td>0.02</td>\n    </tr>\n    <tr>\n      <th>6</th>\n      <td>Phoenix, AZ</td>\n      <td>0.000000</td>\n      <td>0.061538</td>\n      <td>0.00</td>\n      <td>0.00</td>\n      <td>0.00</td>\n      <td>0.00</td>\n      <td>0.00</td>\n      <td>0.00</td>\n      <td>0.00</td>\n      <td>...</td>\n      <td>0.000000</td>\n      <td>0.00</td>\n      <td>0.00</td>\n      <td>0.000000</td>\n      <td>0.00</td>\n      <td>0.000000</td>\n      <td>0.00</td>\n      <td>0.00</td>\n      <td>0.00</td>\n      <td>0.00</td>\n    </tr>\n    <tr>\n      <th>7</th>\n      <td>San Antonio, TX</td>\n      <td>0.000000</td>\n      <td>0.036585</td>\n      <td>0.00</td>\n      <td>0.00</td>\n      <td>0.00</td>\n      <td>0.00</td>\n      <td>0.00</td>\n      <td>0.00</td>\n      <td>0.00</td>\n      <td>...</td>\n      <td>0.000000</td>\n      <td>0.00</td>\n      <td>0.00</td>\n      <td>0.000000</td>\n      <td>0.00</td>\n      <td>0.012195</td>\n      <td>0.00</td>\n      <td>0.00</td>\n      <td>0.00</td>\n      <td>0.00</td>\n    </tr>\n    <tr>\n      <th>8</th>\n      <td>San Diego, CA</td>\n      <td>0.010753</td>\n      <td>0.021505</td>\n      <td>0.00</td>\n      <td>0.00</td>\n      <td>0.00</td>\n      <td>0.00</td>\n      <td>0.00</td>\n      <td>0.00</td>\n      <td>0.00</td>\n      <td>...</td>\n      <td>0.010753</td>\n      <td>0.00</td>\n      <td>0.00</td>\n      <td>0.010753</td>\n      <td>0.00</td>\n      <td>0.010753</td>\n      <td>0.00</td>\n      <td>0.00</td>\n      <td>0.00</td>\n      <td>0.00</td>\n    </tr>\n    <tr>\n      <th>9</th>\n      <td>San Jose, CA</td>\n      <td>0.000000</td>\n      <td>0.010000</td>\n      <td>0.00</td>\n      <td>0.00</td>\n      <td>0.01</td>\n      <td>0.01</td>\n      <td>0.00</td>\n      <td>0.02</td>\n      <td>0.00</td>\n      <td>...</td>\n      <td>0.000000</td>\n      <td>0.00</td>\n      <td>0.01</td>\n      <td>0.010000</td>\n      <td>0.00</td>\n      <td>0.000000</td>\n      <td>0.00</td>\n      <td>0.01</td>\n      <td>0.00</td>\n      <td>0.01</td>\n    </tr>\n  </tbody>\n</table>\n<p>10 rows \u00d7 195 columns</p>\n</div>",
                        "text/plain": "              Cities  Accessories Store  American Restaurant  Antique Shop  \\\n0        Chicago, IL           0.000000             0.020000          0.00   \n1         Dallas, TX           0.000000             0.000000          0.00   \n2        Houston, TX           0.000000             0.000000          0.00   \n3    Los Angeles, CA           0.000000             0.040000          0.00   \n4  New York City, NY           0.000000             0.020000          0.01   \n5   Philadelphia, PA           0.000000             0.030000          0.00   \n6        Phoenix, AZ           0.000000             0.061538          0.00   \n7    San Antonio, TX           0.000000             0.036585          0.00   \n8      San Diego, CA           0.010753             0.021505          0.00   \n9       San Jose, CA           0.000000             0.010000          0.00   \n\n   Arepa Restaurant  Art Gallery  Art Museum  Arts & Crafts Store  \\\n0              0.01         0.00        0.02                 0.02   \n1              0.00         0.00        0.00                 0.00   \n2              0.00         0.00        0.00                 0.00   \n3              0.00         0.00        0.00                 0.00   \n4              0.00         0.00        0.00                 0.00   \n5              0.00         0.00        0.01                 0.01   \n6              0.00         0.00        0.00                 0.00   \n7              0.00         0.00        0.00                 0.00   \n8              0.00         0.00        0.00                 0.00   \n9              0.00         0.01        0.01                 0.00   \n\n   Asian Restaurant  Baby Store  ...  Turkish Restaurant  Udon Restaurant  \\\n0              0.02        0.00  ...            0.000000             0.00   \n1              0.00        0.00  ...            0.000000             0.00   \n2              0.00        0.00  ...            0.000000             0.00   \n3              0.00        0.00  ...            0.000000             0.04   \n4              0.01        0.01  ...            0.000000             0.00   \n5              0.01        0.00  ...            0.000000             0.00   \n6              0.00        0.00  ...            0.000000             0.00   \n7              0.00        0.00  ...            0.000000             0.00   \n8              0.00        0.00  ...            0.010753             0.00   \n9              0.02        0.00  ...            0.000000             0.00   \n\n   Vegetarian / Vegan Restaurant  Vietnamese Restaurant  Whisky Bar  Wine Bar  \\\n0                           0.01               0.000000        0.01  0.000000   \n1                           0.00               0.000000        0.00  0.000000   \n2                           0.00               0.000000        0.00  0.023810   \n3                           0.00               0.000000        0.00  0.000000   \n4                           0.01               0.000000        0.00  0.000000   \n5                           0.02               0.000000        0.00  0.010000   \n6                           0.00               0.000000        0.00  0.000000   \n7                           0.00               0.000000        0.00  0.012195   \n8                           0.00               0.010753        0.00  0.010753   \n9                           0.01               0.010000        0.00  0.000000   \n\n   Wine Shop  Wings Joint  Women's Store  Yoga Studio  \n0       0.00         0.00           0.00         0.00  \n1       0.00         0.00           0.00         0.00  \n2       0.00         0.00           0.00         0.00  \n3       0.00         0.00           0.00         0.00  \n4       0.02         0.00           0.01         0.02  \n5       0.00         0.00           0.00         0.02  \n6       0.00         0.00           0.00         0.00  \n7       0.00         0.00           0.00         0.00  \n8       0.00         0.00           0.00         0.00  \n9       0.00         0.01           0.00         0.01  \n\n[10 rows x 195 columns]"
                    },
                    "execution_count": 67,
                    "metadata": {},
                    "output_type": "execute_result"
                }
            ],
            "source": "Top10_grouped"
        },
        {
            "cell_type": "code",
            "execution_count": 14,
            "metadata": {},
            "outputs": [],
            "source": "# The code was removed by Watson Studio for sharing."
        },
        {
            "cell_type": "code",
            "execution_count": 19,
            "metadata": {},
            "outputs": [],
            "source": "#Save dataframe as csv file to storage\n#project.save_data(data=Top10_venues.to_csv(index=False),file_name='Top10_venues.csv',overwrite=True)\n#project.save_data(data=df_Top10.to_csv(index=False),file_name='Top10.csv',overwrite=True)\n#table_PC=pd.read_csv(project.get_file('LL.csv'))"
        },
        {
            "cell_type": "code",
            "execution_count": 18,
            "metadata": {},
            "outputs": [],
            "source": "#project.save_data(data=Top10_grouped.to_csv(index=False),file_name='Top10_grouped.csv',overwrite=True)"
        },
        {
            "cell_type": "code",
            "execution_count": 21,
            "metadata": {},
            "outputs": [],
            "source": "featureset = Top10_grouped[Top10_grouped.columns[1:]]"
        },
        {
            "cell_type": "code",
            "execution_count": 22,
            "metadata": {},
            "outputs": [
                {
                    "data": {
                        "text/html": "<div>\n<style scoped>\n    .dataframe tbody tr th:only-of-type {\n        vertical-align: middle;\n    }\n\n    .dataframe tbody tr th {\n        vertical-align: top;\n    }\n\n    .dataframe thead th {\n        text-align: right;\n    }\n</style>\n<table border=\"1\" class=\"dataframe\">\n  <thead>\n    <tr style=\"text-align: right;\">\n      <th></th>\n      <th>Accessories Store</th>\n      <th>American Restaurant</th>\n      <th>Antique Shop</th>\n      <th>Arepa Restaurant</th>\n      <th>Art Gallery</th>\n      <th>Art Museum</th>\n      <th>Arts &amp; Crafts Store</th>\n      <th>Asian Restaurant</th>\n      <th>Baby Store</th>\n      <th>Bagel Shop</th>\n      <th>...</th>\n      <th>Turkish Restaurant</th>\n      <th>Udon Restaurant</th>\n      <th>Vegetarian / Vegan Restaurant</th>\n      <th>Vietnamese Restaurant</th>\n      <th>Whisky Bar</th>\n      <th>Wine Bar</th>\n      <th>Wine Shop</th>\n      <th>Wings Joint</th>\n      <th>Women's Store</th>\n      <th>Yoga Studio</th>\n    </tr>\n  </thead>\n  <tbody>\n    <tr>\n      <th>0</th>\n      <td>0.0</td>\n      <td>0.02</td>\n      <td>0.00</td>\n      <td>0.01</td>\n      <td>0.0</td>\n      <td>0.02</td>\n      <td>0.02</td>\n      <td>0.02</td>\n      <td>0.00</td>\n      <td>0.00</td>\n      <td>...</td>\n      <td>0.0</td>\n      <td>0.00</td>\n      <td>0.01</td>\n      <td>0.0</td>\n      <td>0.01</td>\n      <td>0.00000</td>\n      <td>0.00</td>\n      <td>0.0</td>\n      <td>0.00</td>\n      <td>0.00</td>\n    </tr>\n    <tr>\n      <th>1</th>\n      <td>0.0</td>\n      <td>0.00</td>\n      <td>0.00</td>\n      <td>0.00</td>\n      <td>0.0</td>\n      <td>0.00</td>\n      <td>0.00</td>\n      <td>0.00</td>\n      <td>0.00</td>\n      <td>0.00</td>\n      <td>...</td>\n      <td>0.0</td>\n      <td>0.00</td>\n      <td>0.00</td>\n      <td>0.0</td>\n      <td>0.00</td>\n      <td>0.00000</td>\n      <td>0.00</td>\n      <td>0.0</td>\n      <td>0.00</td>\n      <td>0.00</td>\n    </tr>\n    <tr>\n      <th>2</th>\n      <td>0.0</td>\n      <td>0.00</td>\n      <td>0.00</td>\n      <td>0.00</td>\n      <td>0.0</td>\n      <td>0.00</td>\n      <td>0.00</td>\n      <td>0.00</td>\n      <td>0.00</td>\n      <td>0.00</td>\n      <td>...</td>\n      <td>0.0</td>\n      <td>0.00</td>\n      <td>0.00</td>\n      <td>0.0</td>\n      <td>0.00</td>\n      <td>0.02381</td>\n      <td>0.00</td>\n      <td>0.0</td>\n      <td>0.00</td>\n      <td>0.00</td>\n    </tr>\n    <tr>\n      <th>3</th>\n      <td>0.0</td>\n      <td>0.04</td>\n      <td>0.00</td>\n      <td>0.00</td>\n      <td>0.0</td>\n      <td>0.00</td>\n      <td>0.00</td>\n      <td>0.00</td>\n      <td>0.00</td>\n      <td>0.00</td>\n      <td>...</td>\n      <td>0.0</td>\n      <td>0.04</td>\n      <td>0.00</td>\n      <td>0.0</td>\n      <td>0.00</td>\n      <td>0.00000</td>\n      <td>0.00</td>\n      <td>0.0</td>\n      <td>0.00</td>\n      <td>0.00</td>\n    </tr>\n    <tr>\n      <th>4</th>\n      <td>0.0</td>\n      <td>0.02</td>\n      <td>0.01</td>\n      <td>0.00</td>\n      <td>0.0</td>\n      <td>0.00</td>\n      <td>0.00</td>\n      <td>0.01</td>\n      <td>0.01</td>\n      <td>0.01</td>\n      <td>...</td>\n      <td>0.0</td>\n      <td>0.00</td>\n      <td>0.01</td>\n      <td>0.0</td>\n      <td>0.00</td>\n      <td>0.00000</td>\n      <td>0.02</td>\n      <td>0.0</td>\n      <td>0.01</td>\n      <td>0.02</td>\n    </tr>\n  </tbody>\n</table>\n<p>5 rows \u00d7 194 columns</p>\n</div>",
                        "text/plain": "   Accessories Store  American Restaurant  Antique Shop  Arepa Restaurant  \\\n0                0.0                 0.02          0.00              0.01   \n1                0.0                 0.00          0.00              0.00   \n2                0.0                 0.00          0.00              0.00   \n3                0.0                 0.04          0.00              0.00   \n4                0.0                 0.02          0.01              0.00   \n\n   Art Gallery  Art Museum  Arts & Crafts Store  Asian Restaurant  Baby Store  \\\n0          0.0        0.02                 0.02              0.02        0.00   \n1          0.0        0.00                 0.00              0.00        0.00   \n2          0.0        0.00                 0.00              0.00        0.00   \n3          0.0        0.00                 0.00              0.00        0.00   \n4          0.0        0.00                 0.00              0.01        0.01   \n\n   Bagel Shop  ...  Turkish Restaurant  Udon Restaurant  \\\n0        0.00  ...                 0.0             0.00   \n1        0.00  ...                 0.0             0.00   \n2        0.00  ...                 0.0             0.00   \n3        0.00  ...                 0.0             0.04   \n4        0.01  ...                 0.0             0.00   \n\n   Vegetarian / Vegan Restaurant  Vietnamese Restaurant  Whisky Bar  Wine Bar  \\\n0                           0.01                    0.0        0.01   0.00000   \n1                           0.00                    0.0        0.00   0.00000   \n2                           0.00                    0.0        0.00   0.02381   \n3                           0.00                    0.0        0.00   0.00000   \n4                           0.01                    0.0        0.00   0.00000   \n\n   Wine Shop  Wings Joint  Women's Store  Yoga Studio  \n0       0.00          0.0           0.00         0.00  \n1       0.00          0.0           0.00         0.00  \n2       0.00          0.0           0.00         0.00  \n3       0.00          0.0           0.00         0.00  \n4       0.02          0.0           0.01         0.02  \n\n[5 rows x 194 columns]"
                    },
                    "execution_count": 22,
                    "metadata": {},
                    "output_type": "execute_result"
                }
            ],
            "source": "featureset.head()"
        },
        {
            "cell_type": "code",
            "execution_count": 24,
            "metadata": {},
            "outputs": [
                {
                    "data": {
                        "text/plain": "array([[0.        , 0.325     , 0.        , ..., 0.        , 0.        ,\n        0.        ],\n       [0.        , 0.        , 0.        , ..., 0.        , 0.        ,\n        0.        ],\n       [0.        , 0.        , 0.        , ..., 0.        , 0.        ,\n        0.        ],\n       ...,\n       [0.        , 0.5945122 , 0.        , ..., 0.        , 0.        ,\n        0.        ],\n       [1.        , 0.34946237, 0.        , ..., 0.        , 0.        ,\n        0.        ],\n       [0.        , 0.1625    , 0.        , ..., 1.        , 0.        ,\n        0.5       ]])"
                    },
                    "execution_count": 24,
                    "metadata": {},
                    "output_type": "execute_result"
                }
            ],
            "source": "from sklearn.preprocessing import MinMaxScaler\nx = featureset.values #returns a numpy array\nmin_max_scaler = MinMaxScaler()\nfeature_mtx = min_max_scaler.fit_transform(x)\nfeature_mtx"
        },
        {
            "cell_type": "markdown",
            "metadata": {},
            "source": "# Clustering using scikit-learn"
        },
        {
            "cell_type": "code",
            "execution_count": 25,
            "metadata": {},
            "outputs": [
                {
                    "name": "stdout",
                    "output_type": "stream",
                    "text": "[[0.         6.62143081 7.01568849 6.94613118 7.28790982 7.00826892\n  6.766322   6.81591871 7.38220493 7.47607829]\n [6.62143081 0.         5.4770597  5.57104322 6.83643136 6.89654249\n  5.55620315 5.5494677  6.3515684  6.77436307]\n [7.01568849 5.4770597  0.         5.90954501 7.04281916 7.1708909\n  5.64239192 5.82455335 6.62976015 7.19127573]\n [6.94613118 5.57104322 5.90954501 0.         7.16076645 7.36250099\n  5.90460616 6.01779286 6.82556201 7.14597911]\n [7.28790982 6.83643136 7.04281916 7.16076645 0.         7.64311534\n  7.05975896 6.84329576 7.75868577 7.73601509]\n [7.00826892 6.89654249 7.1708909  7.36250099 7.64311534 0.\n  7.05132235 6.68600688 7.13002067 7.36423344]\n [6.766322   5.55620315 5.64239192 5.90460616 7.05975896 7.05132235\n  0.         5.42754634 6.75710371 6.69999832]\n [6.81591871 5.5494677  5.82455335 6.01779286 6.84329576 6.68600688\n  5.42754634 0.         6.32054023 6.50305478]\n [7.38220493 6.3515684  6.62976015 6.82556201 7.75868577 7.13002067\n  6.75710371 6.32054023 0.         7.27949249]\n [7.47607829 6.77436307 7.19127573 7.14597911 7.73601509 7.36423344\n  6.69999832 6.50305478 7.27949249 0.        ]]\n"
                }
            ],
            "source": "from sklearn.metrics.pairwise import euclidean_distances\ndist_matrix = euclidean_distances(feature_mtx,feature_mtx) \nprint(dist_matrix)"
        },
        {
            "cell_type": "markdown",
            "metadata": {},
            "source": "# Which city is the most similar to New York?"
        },
        {
            "cell_type": "code",
            "execution_count": 47,
            "metadata": {},
            "outputs": [],
            "source": "dist_NY=list(dist_matrix[:,4])"
        },
        {
            "cell_type": "code",
            "execution_count": 68,
            "metadata": {},
            "outputs": [],
            "source": "df_NY=pd.DataFrame(columns=['Cities','Difference'])"
        },
        {
            "cell_type": "code",
            "execution_count": 69,
            "metadata": {},
            "outputs": [],
            "source": "df_NY['Cities']=Top10_grouped['Cities']"
        },
        {
            "cell_type": "code",
            "execution_count": 71,
            "metadata": {},
            "outputs": [],
            "source": "df_NY['Difference']=dist_NY"
        },
        {
            "cell_type": "code",
            "execution_count": 78,
            "metadata": {},
            "outputs": [
                {
                    "data": {
                        "text/html": "<div>\n<style scoped>\n    .dataframe tbody tr th:only-of-type {\n        vertical-align: middle;\n    }\n\n    .dataframe tbody tr th {\n        vertical-align: top;\n    }\n\n    .dataframe thead th {\n        text-align: right;\n    }\n</style>\n<table border=\"1\" class=\"dataframe\">\n  <thead>\n    <tr style=\"text-align: right;\">\n      <th></th>\n      <th>Cities</th>\n      <th>Difference</th>\n    </tr>\n  </thead>\n  <tbody>\n    <tr>\n      <th>4</th>\n      <td>New York City, NY</td>\n      <td>0.000000</td>\n    </tr>\n    <tr>\n      <th>1</th>\n      <td>Dallas, TX</td>\n      <td>6.836431</td>\n    </tr>\n    <tr>\n      <th>7</th>\n      <td>San Antonio, TX</td>\n      <td>6.843296</td>\n    </tr>\n    <tr>\n      <th>2</th>\n      <td>Houston, TX</td>\n      <td>7.042819</td>\n    </tr>\n    <tr>\n      <th>6</th>\n      <td>Phoenix, AZ</td>\n      <td>7.059759</td>\n    </tr>\n    <tr>\n      <th>3</th>\n      <td>Los Angeles, CA</td>\n      <td>7.160766</td>\n    </tr>\n    <tr>\n      <th>0</th>\n      <td>Chicago, IL</td>\n      <td>7.287910</td>\n    </tr>\n    <tr>\n      <th>5</th>\n      <td>Philadelphia, PA</td>\n      <td>7.643115</td>\n    </tr>\n    <tr>\n      <th>9</th>\n      <td>San Jose, CA</td>\n      <td>7.736015</td>\n    </tr>\n    <tr>\n      <th>8</th>\n      <td>San Diego, CA</td>\n      <td>7.758686</td>\n    </tr>\n  </tbody>\n</table>\n</div>",
                        "text/plain": "              Cities  Difference\n4  New York City, NY    0.000000\n1         Dallas, TX    6.836431\n7    San Antonio, TX    6.843296\n2        Houston, TX    7.042819\n6        Phoenix, AZ    7.059759\n3    Los Angeles, CA    7.160766\n0        Chicago, IL    7.287910\n5   Philadelphia, PA    7.643115\n9       San Jose, CA    7.736015\n8      San Diego, CA    7.758686"
                    },
                    "execution_count": 78,
                    "metadata": {},
                    "output_type": "execute_result"
                }
            ],
            "source": "df_NY.sort_values('Difference',inplace=True)\ndf_NY"
        },
        {
            "cell_type": "code",
            "execution_count": 81,
            "metadata": {},
            "outputs": [
                {
                    "name": "stdout",
                    "output_type": "stream",
                    "text": "The most similar city to New York is: Dallas, TX\n"
                }
            ],
            "source": "print('The most similar city to New York is: {}'.format(df_NY.iloc[1]['Cities']))"
        },
        {
            "cell_type": "code",
            "execution_count": 28,
            "metadata": {},
            "outputs": [],
            "source": "import pylab\nimport scipy.cluster.hierarchy"
        },
        {
            "cell_type": "code",
            "execution_count": 29,
            "metadata": {},
            "outputs": [
                {
                    "name": "stderr",
                    "output_type": "stream",
                    "text": "/opt/conda/envs/Python-3.7-main/lib/python3.7/site-packages/ipykernel/__main__.py:1: ClusterWarning: scipy.cluster: The symmetric non-negative hollow observation matrix looks suspiciously like an uncondensed distance matrix\n  if __name__ == '__main__':\n"
                }
            ],
            "source": "Z_using_dist_matrix = hierarchy.linkage(dist_matrix, 'complete')"
        },
        {
            "cell_type": "code",
            "execution_count": 33,
            "metadata": {},
            "outputs": [
                {
                    "data": {
                        "image/png": "[encoded data removed]",
                        "text/plain": "<Figure size 864x720 with 1 Axes>"
                    },
                    "metadata": {
                        "needs_background": "light"
                    },
                    "output_type": "display_data"
                }
            ],
            "source": "fig = pylab.figure(figsize=(12,10))\ndef llf(id):\n    return '[%s]' % (Top10_grouped['Cities'][id] )\n    \ndendro = hierarchy.dendrogram(Z_using_dist_matrix,  leaf_label_func=llf, leaf_rotation=0, leaf_font_size =12, orientation = 'right')"
        },
        {
            "cell_type": "markdown",
            "metadata": {},
            "source": "# The above figure shows similarities among cities: for example, Houston TX and Dallas TX are quite similar."
        },
        {
            "cell_type": "code",
            "execution_count": null,
            "metadata": {},
            "outputs": [],
            "source": ""
        }
    ],
    "metadata": {
        "kernelspec": {
            "display_name": "Python 3.7",
            "language": "python",
            "name": "python3"
        },
        "language_info": {
            "codemirror_mode": {
                "name": "ipython",
                "version": 3
            },
            "file_extension": ".py",
            "mimetype": "text/x-python",
            "name": "python",
            "nbconvert_exporter": "python",
            "pygments_lexer": "ipython3",
            "version": "3.7.9"
        }
    },
    "nbformat": 4,
    "nbformat_minor": 1
}